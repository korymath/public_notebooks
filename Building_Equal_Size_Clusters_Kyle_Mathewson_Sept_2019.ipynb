{
 "cells": [
  {
   "cell_type": "markdown",
   "metadata": {
    "colab_type": "text",
    "id": "view-in-github"
   },
   "source": [
    "<a href=\"https://colab.research.google.com/github/korymath/public_notebooks/blob/master/Building_Equal_Size_Clusters_Kyle_Mathewson_Sept_2019.ipynb\" target=\"_parent\"><img src=\"https://colab.research.google.com/assets/colab-badge.svg\" alt=\"Open In Colab\"/></a>"
   ]
  },
  {
   "cell_type": "markdown",
   "metadata": {
    "colab_type": "text",
    "id": "P-G9cpLz95Hy"
   },
   "source": [
    "# Imports"
   ]
  },
  {
   "cell_type": "code",
   "execution_count": 1,
   "metadata": {
    "colab": {},
    "colab_type": "code",
    "id": "YRotLtz9rHPk"
   },
   "outputs": [],
   "source": [
    "%matplotlib inline\n",
    "\n",
    "import matplotlib.pyplot as plt\n",
    "import seaborn as sns; sns.set()\n",
    "import numpy as np\n",
    "from sklearn.datasets.samples_generator import make_blobs\n",
    "from sklearn.cluster import KMeans\n",
    "from collections import Counter\n",
    "import numpy as np\n",
    "from scipy.spatial.distance import pdist\n",
    "from scipy.spatial.distance import squareform\n",
    "\n",
    "random_state = 1017"
   ]
  },
  {
   "cell_type": "markdown",
   "metadata": {
    "colab_type": "text",
    "id": "Jy8dxquVsiQ5"
   },
   "source": [
    "# Generate and Visualize Data"
   ]
  },
  {
   "cell_type": "code",
   "execution_count": 2,
   "metadata": {
    "colab": {
     "base_uri": "https://localhost:8080/",
     "height": 274
    },
    "colab_type": "code",
    "id": "7PMhBLnmrNsb",
    "outputId": "c6242903-3a54-4a6d-c785-d7c14cbad5e3"
   },
   "outputs": [
    {
     "data": {
      "image/png": "[encoded data removed]",
      "text/plain": [
       "<Figure size 432x288 with 1 Axes>"
      ]
     },
     "metadata": {
      "needs_background": "light"
     },
     "output_type": "display_data"
    }
   ],
   "source": [
    "n_samples = 6\n",
    "n_groups = 3\n",
    "n_members = 2\n",
    "\n",
    "# ensure that the calculus works out\n",
    "assert n_groups * n_members == n_samples\n",
    "\n",
    "X, y_true = make_blobs(n_samples=n_samples, centers=n_groups,\n",
    "                       cluster_std=0.50, random_state=random_state)\n",
    "plt.scatter(X[:, 0], X[:, 1], s=50);"
   ]
  },
  {
   "cell_type": "code",
   "execution_count": 3,
   "metadata": {
    "colab": {
     "base_uri": "https://localhost:8080/",
     "height": 125
    },
    "colab_type": "code",
    "id": "Pwz3De0aLUBa",
    "outputId": "998cdbf1-6cec-4f70-c1f5-b8bcec5c1db3"
   },
   "outputs": [
    {
     "name": "stdout",
     "output_type": "stream",
     "text": [
      "[-0.12260639  3.46400662];\n",
      "[-8.17848874  9.18596168];\n",
      "[-7.5051986   9.00890067];\n",
      "[5.8667249  0.51736684];\n",
      "[5.59627747 0.83136308];\n",
      "[-1.01041072  3.34506264];\n"
     ]
    }
   ],
   "source": [
    "for x in X:\n",
    "  print('{};'.format(x))"
   ]
  },
  {
   "cell_type": "markdown",
   "metadata": {
    "colab_type": "text",
    "id": "sVlGJyImsl9Z"
   },
   "source": [
    "# K-Means Clustering"
   ]
  },
  {
   "cell_type": "code",
   "execution_count": 4,
   "metadata": {
    "colab": {
     "base_uri": "https://localhost:8080/",
     "height": 274
    },
    "colab_type": "code",
    "id": "JeYEhDZGrTPg",
    "outputId": "519643db-0622-47e9-9501-0fe1131609f7"
   },
   "outputs": [
    {
     "data": {
      "image/png": "[encoded data removed]",
      "text/plain": [
       "<Figure size 432x288 with 1 Axes>"
      ]
     },
     "metadata": {
      "needs_background": "light"
     },
     "output_type": "display_data"
    }
   ],
   "source": [
    "kmeans = KMeans(n_clusters=n_groups, n_init=100, max_iter=1000)\n",
    "kmeans.fit(X)\n",
    "labels = kmeans.predict(X)\n",
    "\n",
    "plt.scatter(X[:, 0], X[:, 1], c=labels, s=50, cmap='viridis')\n",
    "\n",
    "centers = kmeans.cluster_centers_\n",
    "plt.scatter(centers[:, 0], centers[:, 1], c='black', s=200, alpha=0.5);"
   ]
  },
  {
   "cell_type": "code",
   "execution_count": 5,
   "metadata": {
    "colab": {
     "base_uri": "https://localhost:8080/",
     "height": 35
    },
    "colab_type": "code",
    "id": "ofJ-cu8l_JIL",
    "outputId": "c432de46-3f67-436b-c642-abe244e85a0d"
   },
   "outputs": [
    {
     "name": "stdout",
     "output_type": "stream",
     "text": [
      "Group sizes: Counter({2: 2, 1: 2, 0: 2})\n"
     ]
    }
   ],
   "source": [
    "# test the group size, AssertionError on failure\n",
    "C = Counter(labels)\n",
    "print('Group sizes: {}'.format(C))\n",
    "\n",
    "try:\n",
    "  assert list(C.values()) == [n_members] * n_groups\n",
    "except AssertionError as e:\n",
    "  print('Unequal group sizes')"
   ]
  },
  {
   "cell_type": "markdown",
   "metadata": {
    "colab_type": "text",
    "id": "w6hT6NGhsYnP"
   },
   "source": [
    "# (optional) Explicit Algorithm Details"
   ]
  },
  {
   "cell_type": "code",
   "execution_count": 6,
   "metadata": {
    "colab": {
     "base_uri": "https://localhost:8080/",
     "height": 274
    },
    "colab_type": "code",
    "id": "VyAtU1bHsE8a",
    "outputId": "d5079135-592d-4c13-95e0-7b98400ae50b"
   },
   "outputs": [
    {
     "data": {
      "image/png": "[encoded data removed]",
      "text/plain": [
       "<Figure size 432x288 with 1 Axes>"
      ]
     },
     "metadata": {
      "needs_background": "light"
     },
     "output_type": "display_data"
    }
   ],
   "source": [
    "from sklearn.metrics import pairwise_distances_argmin\n",
    "\n",
    "def find_clusters(X, n_groups, rseed=random_state):\n",
    "    # 1. Randomly choose clusters\n",
    "    rng = np.random.RandomState(rseed)\n",
    "    i = rng.permutation(X.shape[0])[:n_groups]\n",
    "    centers = X[i]\n",
    "    \n",
    "    while True:\n",
    "        # 2a. Assign labels based on closest center\n",
    "        labels = pairwise_distances_argmin(X, centers)\n",
    "        \n",
    "        # 2b. Find new centers from means of points\n",
    "        new_centers = np.array([X[labels == i].mean(0)\n",
    "                                for i in range(n_groups)])\n",
    "        \n",
    "        # 2c. Check for convergence\n",
    "        if np.all(centers == new_centers):\n",
    "            break\n",
    "        centers = new_centers\n",
    "    \n",
    "    return centers, labels\n",
    "\n",
    "centers, labels = find_clusters(X=X, n_groups=n_groups)\n",
    "plt.scatter(X[:, 0], X[:, 1], c=labels, s=50, cmap='viridis');"
   ]
  },
  {
   "cell_type": "markdown",
   "metadata": {
    "colab_type": "text",
    "id": "Ml6txWaJs3TR"
   },
   "source": [
    "# Limitations of K-Means\n",
    "\n",
    "1. Global optimum not guaranteed\n",
    "2. n_groups must be selected beforehand\n",
    "3. limited to linear cluster boundaries\n",
    "4. slow for large n_samples\n",
    "5. group sizes unequal"
   ]
  },
  {
   "cell_type": "code",
   "execution_count": 7,
   "metadata": {
    "colab": {
     "base_uri": "https://localhost:8080/",
     "height": 330
    },
    "colab_type": "code",
    "id": "nuFU3NHltcA3",
    "outputId": "fce288da-afd9-4cba-b91d-248b1c4e287d"
   },
   "outputs": [
    {
     "name": "stderr",
     "output_type": "stream",
     "text": [
      "/Users/korymathewson/work/public_notebooks/venv/lib/python3.6/site-packages/sklearn/manifold/spectral_embedding_.py:235: UserWarning: Graph is not fully connected, spectral embedding may not work as expected.\n",
      "  warnings.warn(\"Graph is not fully connected, spectral embedding\"\n"
     ]
    },
    {
     "data": {
      "image/png": "[encoded data removed]",
      "text/plain": [
       "<Figure size 432x288 with 1 Axes>"
      ]
     },
     "metadata": {
      "needs_background": "light"
     },
     "output_type": "display_data"
    }
   ],
   "source": [
    "# To address limitation 1, we can increase n_init for different random\n",
    "# starting points on centroids. We can also increase the number of iterations\n",
    "# particularly if there is a small n_samples\n",
    "\n",
    "# To address limitation 3, we can use spectral clustering\n",
    "\n",
    "# use a kernel transformation to project the data into a higher dimension where \n",
    "# a linear separation is possible. \n",
    "# Allow k-means to discover non-linear boundaries.\n",
    "\n",
    "from sklearn.cluster import SpectralClustering\n",
    "model = SpectralClustering(n_clusters=n_groups, affinity='nearest_neighbors',\n",
    "                           assign_labels='kmeans', n_neighbors=n_members,\n",
    "                           n_init=100, random_state=random_state)\n",
    "labels = model.fit_predict(X)\n",
    "plt.scatter(X[:, 0], X[:, 1], c=labels, s=50, cmap='viridis');"
   ]
  },
  {
   "cell_type": "code",
   "execution_count": 8,
   "metadata": {
    "colab": {
     "base_uri": "https://localhost:8080/",
     "height": 35
    },
    "colab_type": "code",
    "id": "_2AjsYRV-YOu",
    "outputId": "5366c6e2-8c2b-4643-f4ff-f69589965f72"
   },
   "outputs": [
    {
     "name": "stdout",
     "output_type": "stream",
     "text": [
      "Group sizes: Counter({0: 2, 1: 2, 2: 2})\n"
     ]
    }
   ],
   "source": [
    "# test the group size, AssertionError on failure\n",
    "C = Counter(labels)\n",
    "print('Group sizes: {}'.format(C))\n",
    "\n",
    "try:\n",
    "  assert list(C.values()) == [n_members] * n_groups\n",
    "except AssertionError as e:\n",
    "  print('Unequal group sizes')"
   ]
  },
  {
   "cell_type": "markdown",
   "metadata": {
    "colab_type": "text",
    "id": "yUlKAcwA9esD"
   },
   "source": [
    "# Contrained Group Size k-means Clustering"
   ]
  },
  {
   "cell_type": "code",
   "execution_count": 9,
   "metadata": {
    "colab": {},
    "colab_type": "code",
    "id": "qnudnwUS38Ku"
   },
   "outputs": [],
   "source": [
    "def average_data_distance_error(n_groups, memberships, distances):\n",
    "    '''Calculate average distance between data in clusters.'''\n",
    "    error = 0\n",
    "    for k in range(n_groups):\n",
    "        # indices of datapoints belonging to class k\n",
    "        i = np.where(memberships == k)[0]\n",
    "        error += np.mean(distances[tuple(np.meshgrid(i, i))])\n",
    "    return error / n_groups\n",
    "    \n",
    "def cluster_equal_groups(data, n_groups=None, n_members=None, verbose=False):\n",
    "    # equal-size clustering based on data exchanges between pairs of clusters\n",
    "    \n",
    "    # given two of three num_points, num_clusters, group_size \n",
    "    # the third is trivial to calculate\n",
    "    n_samples, _ = data.shape\n",
    "    if n_members is None and n_groups is not None:\n",
    "        n_members = n_samples // n_groups\n",
    "    elif n_groups is None and n_members is not None:\n",
    "        n_groups = n_samples // n_members\n",
    "    else:\n",
    "        raise Exception('must specify either n_members or n_groups')\n",
    "        \n",
    "    # distance matrix\n",
    "    distances = squareform(pdist(data)) \n",
    "    # print(distances)\n",
    "    \n",
    "    # Random initial membership\n",
    "    # np.random.seed(random_state)\n",
    "    # memberships = np.random.permutation(n_samples) % n_groups\n",
    "\n",
    "    # Initial membership\n",
    "    kmeans = KMeans(n_clusters=n_groups, n_init=100, max_iter=1000)\n",
    "    kmeans.fit(data)\n",
    "    memberships = kmeans.predict(data)\n",
    "    \n",
    "    current_err = average_data_distance_error(n_groups, memberships, distances)\n",
    "    # print(n_groups, memberships)\n",
    "    t = 1\n",
    "    while True:\n",
    "        past_err = current_err\n",
    "        for a in range(n_samples):\n",
    "            for b in range(a):\n",
    "                # exchange membership\n",
    "                memberships[a], memberships[b] = memberships[b], memberships[a] \n",
    "                # calculate new error\n",
    "                test_err = average_data_distance_error(n_groups, memberships, distances)\n",
    "                if verbose:\n",
    "                  print(\"{}: {}<->{} E={}\".format(t, a, b, current_err))\n",
    "                if test_err < current_err:\n",
    "                    current_err = test_err\n",
    "                else:\n",
    "                    # put them back\n",
    "                    memberships[a], memberships[b] = memberships[b], memberships[a]  \n",
    "        if past_err == current_err:\n",
    "            break\n",
    "        t += 1    \n",
    "    return memberships"
   ]
  },
  {
   "cell_type": "code",
   "execution_count": 10,
   "metadata": {
    "colab": {
     "base_uri": "https://localhost:8080/",
     "height": 328
    },
    "colab_type": "code",
    "id": "UR7lSoew4chS",
    "outputId": "fc076b91-cca2-4c03-fa97-b1f51a34e1db"
   },
   "outputs": [
    {
     "name": "stdout",
     "output_type": "stream",
     "text": [
      "Group sizes: Counter({7: 5, 2: 4, 1: 4, 3: 4, 0: 4, 5: 4, 6: 4, 4: 3})\n",
      "Unequal group sizes\n",
      "Equal group memberships found in 0.65 s\n"
     ]
    },
    {
     "data": {
      "image/png": "[encoded data removed]",
      "text/plain": [
       "<Figure size 432x288 with 1 Axes>"
      ]
     },
     "metadata": {
      "needs_background": "light"
     },
     "output_type": "display_data"
    }
   ],
   "source": [
    "import time\n",
    "\n",
    "n_samples = 32\n",
    "n_groups = 8\n",
    "n_members = n_samples // n_groups\n",
    "\n",
    "# ensure that the calculus works out\n",
    "assert n_groups * n_members == n_samples\n",
    "\n",
    "X, y_true = make_blobs(n_samples=n_samples, \n",
    "                       centers=n_groups,\n",
    "                       cluster_std=0.50, \n",
    "                       random_state=random_state)\n",
    "plt.scatter(X[:, 0], X[:, 1], s=50);\n",
    "\n",
    "t0 = time.time()\n",
    "labels = cluster_equal_groups(X, n_groups=n_groups, verbose=False)\n",
    "t1 = time.time()\n",
    "\n",
    "# test the group size, AssertionError on failure\n",
    "C = Counter(labels)\n",
    "print('Group sizes: {}'.format(C))\n",
    "\n",
    "try:\n",
    "  assert list(C.values()) == [n_members] * n_groups\n",
    "  print('Success, group sizes are equal!')\n",
    "except AssertionError as e:\n",
    "  print('Unequal group sizes')\n",
    "\n",
    "print('Equal group memberships found in {} s'.format(round(t1-t0, 2)))\n",
    "\n",
    "# Plot the memberships\n",
    "plt.scatter(X[:, 0], X[:, 1], c=labels, s=50, cmap='viridis');"
   ]
  },
  {
   "cell_type": "code",
   "execution_count": 14,
   "metadata": {
    "colab": {
     "base_uri": "https://localhost:8080/",
     "height": 35
    },
    "colab_type": "code",
    "id": "tGEla06pAqF0",
    "outputId": "b4341b43-4896-4eed-d785-d2b1caf6d2a2"
   },
   "outputs": [
    {
     "name": "stdout",
     "output_type": "stream",
     "text": [
      "(8, 4) (8, 4)\n"
     ]
    }
   ],
   "source": [
    "nx, ny = 4, 8\n",
    "xs = np.linspace(0, 1, nx)\n",
    "ys = np.linspace(0, 1, ny)\n",
    "x, y = np.meshgrid(xs, ys) + np.random.normal(scale=0.01, size=(ny, nx))\n",
    "print(x.shape, y.shape)"
   ]
  },
  {
   "cell_type": "code",
   "execution_count": 15,
   "metadata": {
    "colab": {
     "base_uri": "https://localhost:8080/",
     "height": 274
    },
    "colab_type": "code",
    "id": "m9QwWGFOD8I0",
    "outputId": "93820914-856e-439c-cc35-1cc038d07b96"
   },
   "outputs": [
    {
     "data": {
      "image/png": "[encoded data removed]",
      "text/plain": [
       "<Figure size 432x288 with 1 Axes>"
      ]
     },
     "metadata": {
      "needs_background": "light"
     },
     "output_type": "display_data"
    }
   ],
   "source": [
    "X = np.zeros(shape=(len(x.flatten()), 2))\n",
    "X[:, 0] = x.flatten()\n",
    "X[:, 1] = y.flatten()\n",
    "plt.scatter(X[:, 0], X[:, 1], s=50);"
   ]
  },
  {
   "cell_type": "code",
   "execution_count": 16,
   "metadata": {
    "colab": {
     "base_uri": "https://localhost:8080/",
     "height": 1000
    },
    "colab_type": "code",
    "id": "CG6CqO37Az0l",
    "outputId": "c37c2ca6-ebd3-4696-fc6c-15243b785b01"
   },
   "outputs": [
    {
     "name": "stdout",
     "output_type": "stream",
     "text": [
      "Group sizes: Counter({0: 16, 1: 16})\n",
      "Unequal group sizes\n"
     ]
    },
    {
     "data": {
      "image/png": "[encoded data removed]",
      "text/plain": [
       "<Figure size 432x288 with 1 Axes>"
      ]
     },
     "metadata": {
      "needs_background": "light"
     },
     "output_type": "display_data"
    }
   ],
   "source": [
    "labels = cluster_equal_groups(X, n_groups=2, verbose=False)\n",
    "plt.scatter(X[:, 0], X[:, 1], c=labels, s=50, cmap='jet');\n",
    "\n",
    "# test the group size, AssertionError on failure\n",
    "C = Counter(labels)\n",
    "print('Group sizes: {}'.format(C))\n",
    "\n",
    "try:\n",
    "  assert list(C.values()) == [n_members] * n_groups\n",
    "except AssertionError as e:\n",
    "  print('Unequal group sizes')"
   ]
  },
  {
   "cell_type": "code",
   "execution_count": 17,
   "metadata": {
    "colab": {
     "base_uri": "https://localhost:8080/",
     "height": 266
    },
    "colab_type": "code",
    "id": "YX1lFuEVCNlm",
    "outputId": "6bebedf9-679f-4cca-f6ea-b0b7fe7a4066"
   },
   "outputs": [
    {
     "data": {
      "text/plain": [
       "<mpl_toolkits.mplot3d.art3d.Path3DCollection at 0x1243d1630>"
      ]
     },
     "execution_count": 17,
     "metadata": {},
     "output_type": "execute_result"
    },
    {
     "data": {
      "image/png": "[encoded data removed]",
      "text/plain": [
       "<Figure size 432x288 with 1 Axes>"
      ]
     },
     "metadata": {
      "needs_background": "light"
     },
     "output_type": "display_data"
    }
   ],
   "source": [
    "# This import registers the 3D projection, but is otherwise unused.\n",
    "from mpl_toolkits.mplot3d import Axes3D  # noqa: F401 unused import\n",
    "\n",
    "X, y_true = make_blobs(n_samples=n_samples, \n",
    "                       centers=n_groups,\n",
    "                       n_features=3,\n",
    "                       cluster_std=0.50, \n",
    "                       random_state=random_state)\n",
    "fig = plt.figure()\n",
    "ax = fig.add_subplot(111, projection='3d')\n",
    "ax.scatter(X[:, 0], X[:, 1], X[:, 2], s=50)"
   ]
  },
  {
   "cell_type": "code",
   "execution_count": 18,
   "metadata": {
    "colab": {
     "base_uri": "https://localhost:8080/",
     "height": 1000
    },
    "colab_type": "code",
    "id": "t3d_LoyiFQNl",
    "outputId": "98a103d3-a428-45f7-ff57-990847ea8263"
   },
   "outputs": [],
   "source": [
    "labels = cluster_equal_groups(X, n_groups=n_groups)"
   ]
  },
  {
   "cell_type": "code",
   "execution_count": 19,
   "metadata": {
    "colab": {
     "base_uri": "https://localhost:8080/",
     "height": 248
    },
    "colab_type": "code",
    "id": "O8CVuUJfGArH",
    "outputId": "fc596ade-7a44-4f67-a4f6-802d71ed6a28"
   },
   "outputs": [
    {
     "data": {
      "image/png": "[encoded data removed]",
      "text/plain": [
       "<Figure size 432x288 with 1 Axes>"
      ]
     },
     "metadata": {
      "needs_background": "light"
     },
     "output_type": "display_data"
    }
   ],
   "source": [
    "fig = plt.figure()\n",
    "ax = fig.add_subplot(111, projection='3d')\n",
    "ax.scatter(X[:, 0], X[:, 1], X[:, 2], c=labels, s=50, cmap='viridis');"
   ]
  },
  {
   "cell_type": "code",
   "execution_count": 20,
   "metadata": {
    "colab": {
     "base_uri": "https://localhost:8080/",
     "height": 35
    },
    "colab_type": "code",
    "id": "H-UpfqwTBJhV",
    "outputId": "9c5e82fe-37a2-4703-a757-9c3b81ec01da"
   },
   "outputs": [
    {
     "data": {
      "text/plain": [
       "array([2, 3, 2, 2, 2, 3, 0, 2, 0, 1, 0, 0, 3, 0, 1, 2, 3, 2, 1, 0, 0, 0,\n",
       "       1, 1, 1, 3, 1, 3, 2, 3, 3, 1])"
      ]
     },
     "execution_count": 20,
     "metadata": {},
     "output_type": "execute_result"
    }
   ],
   "source": [
    "np.random.permutation(n_samples) % 4"
   ]
  },
  {
   "cell_type": "code",
   "execution_count": 21,
   "metadata": {
    "colab": {
     "base_uri": "https://localhost:8080/",
     "height": 233
    },
    "colab_type": "code",
    "id": "pQcWPpToFUU3",
    "outputId": "39ca6f9b-e108-44fc-ec27-46b1a7051e89"
   },
   "outputs": [
    {
     "data": {
      "text/plain": [
       "array([[ 0.        , 12.45015813, 17.62755864, ...,  7.39045528,\n",
       "         0.43649796, 17.36643572],\n",
       "       [12.45015813,  0.        , 14.79607334, ..., 13.36058577,\n",
       "        12.54034462,  6.1362432 ],\n",
       "       [17.62755864, 14.79607334,  0.        , ..., 15.14628393,\n",
       "        17.59556124, 15.59578472],\n",
       "       ...,\n",
       "       [ 7.39045528, 13.36058577, 15.14628393, ...,  0.        ,\n",
       "         7.00528959, 15.92597621],\n",
       "       [ 0.43649796, 12.54034462, 17.59556124, ...,  7.00528959,\n",
       "         0.        , 17.34612556],\n",
       "       [17.36643572,  6.1362432 , 15.59578472, ..., 15.92597621,\n",
       "        17.34612556,  0.        ]])"
      ]
     },
     "execution_count": 21,
     "metadata": {},
     "output_type": "execute_result"
    }
   ],
   "source": [
    "distances = squareform(pdist(X))\n",
    "distances"
   ]
  },
  {
   "cell_type": "code",
   "execution_count": 22,
   "metadata": {
    "colab": {
     "base_uri": "https://localhost:8080/",
     "height": 109
    },
    "colab_type": "code",
    "id": "u6i3F-_bMBqI",
    "outputId": "22cda2c3-5d10-4288-fabe-1c33eb1af1e5"
   },
   "outputs": [
    {
     "name": "stderr",
     "output_type": "stream",
     "text": [
      "/Users/korymathewson/work/public_notebooks/venv/lib/python3.6/site-packages/ipykernel_launcher.py:1: FutureWarning: Using a non-tuple sequence for multidimensional indexing is deprecated; use `arr[tuple(seq)]` instead of `arr[seq]`. In the future this will be interpreted as an array index, `arr[np.array(seq)]`, which will result either in an error or a different result.\n",
      "  \"\"\"Entry point for launching an IPython kernel.\n"
     ]
    },
    {
     "data": {
      "text/plain": [
       "array([[ 0.        , 12.45015813],\n",
       "       [12.45015813,  0.        ]])"
      ]
     },
     "execution_count": 22,
     "metadata": {},
     "output_type": "execute_result"
    }
   ],
   "source": [
    "distances[np.meshgrid((0,1), (0,1))]"
   ]
  },
  {
   "cell_type": "code",
   "execution_count": 23,
   "metadata": {
    "colab": {
     "base_uri": "https://localhost:8080/",
     "height": 35
    },
    "colab_type": "code",
    "id": "3rHGjZ1pFsRr",
    "outputId": "1a0f9f60-c2f4-4e1e-db99-b39430284f85"
   },
   "outputs": [
    {
     "data": {
      "text/plain": [
       "6.225079063270015"
      ]
     },
     "execution_count": 23,
     "metadata": {},
     "output_type": "execute_result"
    }
   ],
   "source": [
    "np.mean(distances[tuple(np.meshgrid([0,1], [0,1]))])"
   ]
  },
  {
   "cell_type": "code",
   "execution_count": 24,
   "metadata": {
    "colab": {
     "base_uri": "https://localhost:8080/",
     "height": 53
    },
    "colab_type": "code",
    "id": "zvlYX3O5b2HG",
    "outputId": "c15cd61f-3f74-458a-8f7a-ee5b533beb96"
   },
   "outputs": [
    {
     "data": {
      "text/plain": [
       "array([[ 0.       , 15.6038057],\n",
       "       [15.6038057,  0.       ]])"
      ]
     },
     "execution_count": 24,
     "metadata": {},
     "output_type": "execute_result"
    }
   ],
   "source": [
    "distances[tuple(np.meshgrid([2,3], [2,3]))]"
   ]
  },
  {
   "cell_type": "code",
   "execution_count": 25,
   "metadata": {
    "colab": {
     "base_uri": "https://localhost:8080/",
     "height": 107
    },
    "colab_type": "code",
    "id": "B7C_vpUtNFAj",
    "outputId": "44bc8a16-53a9-442e-8cdf-68e1dc7cde6f"
   },
   "outputs": [
    {
     "data": {
      "text/plain": [
       "[array([[1, 2, 3],\n",
       "        [1, 2, 3],\n",
       "        [1, 2, 3]]), array([[1, 1, 1],\n",
       "        [2, 2, 2],\n",
       "        [3, 3, 3]])]"
      ]
     },
     "execution_count": 25,
     "metadata": {},
     "output_type": "execute_result"
    }
   ],
   "source": [
    "np.meshgrid([1,2,3],[1,2,3])\n",
    "# distances[tuple(np.meshgrid([1,2,3],[1,2,3]))]"
   ]
  },
  {
   "cell_type": "code",
   "execution_count": 26,
   "metadata": {
    "colab": {
     "base_uri": "https://localhost:8080/",
     "height": 35
    },
    "colab_type": "code",
    "id": "T8WS97MPGBof",
    "outputId": "a65b0391-cc05-4f8c-8b79-e79c7bf1bb1e"
   },
   "outputs": [
    {
     "data": {
      "text/plain": [
       "array([11, 15, 20, 31])"
      ]
     },
     "execution_count": 26,
     "metadata": {},
     "output_type": "execute_result"
    }
   ],
   "source": [
    "memberships = np.random.permutation(n_samples) % n_groups\n",
    "np.where(memberships == 3)[0]"
   ]
  },
  {
   "cell_type": "code",
   "execution_count": 27,
   "metadata": {
    "colab": {
     "base_uri": "https://localhost:8080/",
     "height": 35
    },
    "colab_type": "code",
    "id": "O4XTz_zeIJRC",
    "outputId": "215e5db9-d2b2-4891-8df0-86fba3875f0f"
   },
   "outputs": [
    {
     "data": {
      "text/plain": [
       "(array([1, 2, 3]), array([1, 2, 3]), array([1, 2, 3]))"
      ]
     },
     "execution_count": 27,
     "metadata": {},
     "output_type": "execute_result"
    }
   ],
   "source": [
    "tuple(np.meshgrid([1,2,3], [1,2,3])[0])"
   ]
  },
  {
   "cell_type": "code",
   "execution_count": 28,
   "metadata": {
    "colab": {
     "base_uri": "https://localhost:8080/",
     "height": 127
    },
    "colab_type": "code",
    "id": "siUB4QgIIhRW",
    "outputId": "fbc3f707-780f-436d-e92c-6692ebfccf97"
   },
   "outputs": [
    {
     "name": "stderr",
     "output_type": "stream",
     "text": [
      "/Users/korymathewson/work/public_notebooks/venv/lib/python3.6/site-packages/ipykernel_launcher.py:1: FutureWarning: Using a non-tuple sequence for multidimensional indexing is deprecated; use `arr[tuple(seq)]` instead of `arr[seq]`. In the future this will be interpreted as an array index, `arr[np.array(seq)]`, which will result either in an error or a different result.\n",
      "  \"\"\"Entry point for launching an IPython kernel.\n"
     ]
    },
    {
     "data": {
      "text/plain": [
       "array([[ 0.        , 14.79607334,  6.36375121],\n",
       "       [14.79607334,  0.        , 15.6038057 ],\n",
       "       [ 6.36375121, 15.6038057 ,  0.        ]])"
      ]
     },
     "execution_count": 28,
     "metadata": {},
     "output_type": "execute_result"
    }
   ],
   "source": [
    "distances[np.meshgrid([1,2,3], [1,2,3])]"
   ]
  },
  {
   "cell_type": "code",
   "execution_count": 29,
   "metadata": {
    "colab": {},
    "colab_type": "code",
    "id": "fGkKv4dZsS3S"
   },
   "outputs": [],
   "source": [
    "\"\"\"Equal Groups K-Means clustering utlizing the scikit-learn api and related\n",
    "utilities.\n",
    "BSD 3-clause \"New\" or \"Revised\" License\n",
    "version 0.17.1\n",
    "\"\"\"\n",
    "\n",
    "\n",
    "import warnings\n",
    "\n",
    "import numpy as np\n",
    "import scipy.sparse as sp\n",
    "\n",
    "from sklearn.base import BaseEstimator, ClusterMixin, TransformerMixin\n",
    "from sklearn.cluster import k_means_\n",
    "from sklearn.cluster import _k_means\n",
    "from joblib import Parallel\n",
    "from joblib import delayed\n",
    "from sklearn.metrics.pairwise import euclidean_distances\n",
    "from sklearn.utils.extmath import row_norms, squared_norm\n",
    "from sklearn.utils.sparsefuncs import mean_variance_axis\n",
    "from sklearn.utils import check_array\n",
    "from sklearn.utils import check_random_state\n",
    "from sklearn.utils import as_float_array\n",
    "from sklearn.utils.validation import check_is_fitted\n",
    "from sklearn.utils.validation import FLOAT_DTYPES\n",
    "\n",
    "\n",
    "\n",
    "class EqualGroupsKMeans(BaseEstimator, ClusterMixin, TransformerMixin):\n",
    "    \"\"\"Equal Groups K-Means clustering\n",
    "    90 percent of this is the Kmeans implmentations with the equal groups logic\n",
    "    located in `_labels_inertia_precompute_dense()` which follows the steps laid\n",
    "    out in the Elki Same-size k-Means Variation tutorial.\n",
    "    https://elki-project.github.io/tutorial/same-size_k_means\n",
    "    Please note that this implementation only works in scikit-learn 17.X as later\n",
    "    versions having breaking changes to this implementation.\n",
    "    Parameters\n",
    "    ----------\n",
    "    n_clusters : int, optional, default: 8\n",
    "        The number of clusters to form as well as the number of\n",
    "        centroids to generate.\n",
    "    max_iter : int, default: 300\n",
    "        Maximum number of iterations of the k-means algorithm for a\n",
    "        single run.\n",
    "    n_init : int, default: 10\n",
    "        Number of time the k-means algorithm will be run with different\n",
    "        centroid seeds. The final results will be the best output of\n",
    "        n_init consecutive runs in terms of inertia.\n",
    "    init : {'k-means++', 'random' or an ndarray}\n",
    "        Method for initialization, defaults to 'k-means++':\n",
    "        'k-means++' : selects initial cluster centers for k-mean\n",
    "        clustering in a smart way to speed up convergence. See section\n",
    "        Notes in k_init for more details.\n",
    "        'random': choose k observations (rows) at random from data for\n",
    "        the initial centroids.\n",
    "        If an ndarray is passed, it should be of shape (n_clusters, n_features)\n",
    "        and gives the initial centers.\n",
    "    precompute_distances : {'auto', True, False}\n",
    "        Precompute distances (faster but takes more memory).\n",
    "        'auto' : do not precompute distances if n_samples * n_clusters > 12\n",
    "        million. This corresponds to about 100MB overhead per job using\n",
    "        double precision.\n",
    "        True : always precompute distances\n",
    "        False : never precompute distances\n",
    "    tol : float, default: 1e-4\n",
    "        Relative tolerance with regards to inertia to declare convergence\n",
    "    n_jobs : int\n",
    "        The number of jobs to use for the computation. This works by computing\n",
    "        each of the n_init runs in parallel.\n",
    "        If -1 all CPUs are used. If 1 is given, no parallel computing code is\n",
    "        used at all, which is useful for debugging. For n_jobs below -1,\n",
    "        (n_cpus + 1 + n_jobs) are used. Thus for n_jobs = -2, all CPUs but one\n",
    "        are used.\n",
    "    random_state : integer or numpy.RandomState, optional\n",
    "        The generator used to initialize the centers. If an integer is\n",
    "        given, it fixes the seed. Defaults to the global numpy random\n",
    "        number generator.\n",
    "    verbose : int, default 0\n",
    "        Verbosity mode.\n",
    "    copy_x : boolean, default True\n",
    "        When pre-computing distances it is more numerically accurate to center\n",
    "        the data first.  If copy_x is True, then the original data is not\n",
    "        modified.  If False, the original data is modified, and put back before\n",
    "        the function returns, but small numerical differences may be introduced\n",
    "        by subtracting and then adding the data mean.\n",
    "    Attributes\n",
    "    ----------\n",
    "    cluster_centers_ : array, [n_clusters, n_features]\n",
    "        Coordinates of cluster centers\n",
    "    labels_ :\n",
    "        Labels of each point\n",
    "    inertia_ : float\n",
    "        Sum of distances of samples to their closest cluster center.\n",
    "    Notes\n",
    "    ------\n",
    "    The k-means problem is solved using Lloyd's algorithm.\n",
    "    The average complexity is given by O(k n T), were n is the number of\n",
    "    samples and T is the number of iteration.\n",
    "    The worst case complexity is given by O(n^(k+2/p)) with\n",
    "    n = n_samples, p = n_features. (D. Arthur and S. Vassilvitskii,\n",
    "    'How slow is the k-means method?' SoCG2006)\n",
    "    In practice, the k-means algorithm is very fast (one of the fastest\n",
    "    clustering algorithms available), but it falls in local minima. That's why\n",
    "    it can be useful to restart it several times.\n",
    "    See also\n",
    "    --------\n",
    "    MiniBatchKMeans:\n",
    "        Alternative online implementation that does incremental updates\n",
    "        of the centers positions using mini-batches.\n",
    "        For large scale learning (say n_samples > 10k) MiniBatchKMeans is\n",
    "        probably much faster to than the default batch implementation.\n",
    "    \"\"\"\n",
    "\n",
    "    def __init__(self, n_clusters=8, init='k-means++', n_init=10, max_iter=300,\n",
    "                 tol=1e-4, precompute_distances='auto',\n",
    "                 verbose=0, random_state=None, copy_x=True, n_jobs=1):\n",
    "\n",
    "        self.n_clusters = n_clusters\n",
    "        self.init = init\n",
    "        self.max_iter = max_iter\n",
    "        self.tol = tol\n",
    "        self.precompute_distances = precompute_distances\n",
    "        self.n_init = n_init\n",
    "        self.verbose = verbose\n",
    "        self.random_state = random_state\n",
    "        self.copy_x = copy_x\n",
    "        self.n_jobs = n_jobs\n",
    "\n",
    "    def _check_fit_data(self, X):\n",
    "        \"\"\"Verify that the number of samples given is larger than k\"\"\"\n",
    "        X = check_array(X, accept_sparse='csr', dtype=np.float64)\n",
    "        if X.shape[0] < self.n_clusters:\n",
    "            raise ValueError(\"n_samples=%d should be >= n_clusters=%d\" % (\n",
    "                X.shape[0], self.n_clusters))\n",
    "        return X\n",
    "\n",
    "    def _check_test_data(self, X):\n",
    "        X = check_array(X, accept_sparse='csr', dtype=FLOAT_DTYPES,\n",
    "                        warn_on_dtype=True)\n",
    "        n_samples, n_features = X.shape\n",
    "        expected_n_features = self.cluster_centers_.shape[1]\n",
    "        if not n_features == expected_n_features:\n",
    "            raise ValueError(\"Incorrect number of features. \"\n",
    "                             \"Got %d features, expected %d\" % (\n",
    "                                 n_features, expected_n_features))\n",
    "\n",
    "        return X\n",
    "\n",
    "    def fit(self, X, y=None):\n",
    "        \"\"\"Compute k-means clustering.\n",
    "        Parameters\n",
    "        ----------\n",
    "        X : array-like or sparse matrix, shape=(n_samples, n_features)\n",
    "        \"\"\"\n",
    "        random_state = check_random_state(self.random_state)\n",
    "        X = self._check_fit_data(X)\n",
    "\n",
    "        self.cluster_centers_, self.labels_, self.inertia_, self.n_iter_ = \\\n",
    "            k_means(\n",
    "                X, n_clusters=self.n_clusters, init=self.init,\n",
    "                n_init=self.n_init, max_iter=self.max_iter,\n",
    "                verbose=self.verbose, return_n_iter=True,\n",
    "                precompute_distances=self.precompute_distances,\n",
    "                tol=self.tol, random_state=random_state, copy_x=self.copy_x,\n",
    "                n_jobs=self.n_jobs)\n",
    "        return self\n",
    "\n",
    "    def fit_predict(self, X, y=None):\n",
    "        \"\"\"Compute cluster centers and predict cluster index for each sample.\n",
    "        Convenience method; equivalent to calling fit(X) followed by\n",
    "        predict(X).\n",
    "        \"\"\"\n",
    "        return self.fit(X).labels_\n",
    "\n",
    "    def fit_transform(self, X, y=None):\n",
    "        \"\"\"Compute clustering and transform X to cluster-distance space.\n",
    "        Equivalent to fit(X).transform(X), but more efficiently implemented.\n",
    "        \"\"\"\n",
    "        # Currently, this just skips a copy of the data if it is not in\n",
    "        # np.array or CSR format already.\n",
    "        # XXX This skips _check_test_data, which may change the dtype;\n",
    "        # we should refactor the input validation.\n",
    "        X = self._check_fit_data(X)\n",
    "        return self.fit(X)._transform(X)\n",
    "\n",
    "    def transform(self, X, y=None):\n",
    "        \"\"\"Transform X to a cluster-distance space.\n",
    "        In the new space, each dimension is the distance to the cluster\n",
    "        centers.  Note that even if X is sparse, the array returned by\n",
    "        `transform` will typically be dense.\n",
    "        Parameters\n",
    "        ----------\n",
    "        X : {array-like, sparse matrix}, shape = [n_samples, n_features]\n",
    "            New data to transform.\n",
    "        Returns\n",
    "        -------\n",
    "        X_new : array, shape [n_samples, k]\n",
    "            X transformed in the new space.\n",
    "        \"\"\"\n",
    "        check_is_fitted(self, 'cluster_centers_')\n",
    "\n",
    "        X = self._check_test_data(X)\n",
    "        return self._transform(X)\n",
    "\n",
    "    def _transform(self, X):\n",
    "        \"\"\"guts of transform method; no input validation\"\"\"\n",
    "        return euclidean_distances(X, self.cluster_centers_)\n",
    "\n",
    "    def predict(self, X):\n",
    "        \"\"\"Predict the closest cluster each sample in X belongs to.\n",
    "        In the vector quantization literature, `cluster_centers_` is called\n",
    "        the code book and each value returned by `predict` is the index of\n",
    "        the closest code in the code book.\n",
    "        Parameters\n",
    "        ----------\n",
    "        X : {array-like, sparse matrix}, shape = [n_samples, n_features]\n",
    "            New data to predict.\n",
    "        Returns\n",
    "        -------\n",
    "        labels : array, shape [n_samples,]\n",
    "            Index of the cluster each sample belongs to.\n",
    "        \"\"\"\n",
    "        check_is_fitted(self, 'cluster_centers_')\n",
    "\n",
    "        X = self._check_test_data(X)\n",
    "        x_squared_norms = row_norms(X, squared=True)\n",
    "        return _labels_inertia(X, x_squared_norms, self.cluster_centers_)[0]\n",
    "\n",
    "    def score(self, X, y=None):\n",
    "        \"\"\"Opposite of the value of X on the K-means objective.\n",
    "        Parameters\n",
    "        ----------\n",
    "        X : {array-like, sparse matrix}, shape = [n_samples, n_features]\n",
    "            New data.\n",
    "        Returns\n",
    "        -------\n",
    "        score : float\n",
    "            Opposite of the value of X on the K-means objective.\n",
    "        \"\"\"\n",
    "        check_is_fitted(self, 'cluster_centers_')\n",
    "\n",
    "        X = self._check_test_data(X)\n",
    "        x_squared_norms = row_norms(X, squared=True)\n",
    "        return -_labels_inertia(X, x_squared_norms, self.cluster_centers_)[1]\n",
    "\n",
    "\n",
    "\n",
    "def k_means(X, n_clusters, init='k-means++', precompute_distances='auto',\n",
    "            n_init=10, max_iter=300, verbose=False,\n",
    "            tol=1e-4, random_state=None, copy_x=True, n_jobs=1,\n",
    "            return_n_iter=False):\n",
    "    \"\"\"K-means clustering algorithm.\n",
    "    Read more in the :ref:`User Guide <k_means>`.\n",
    "    Parameters\n",
    "    ----------\n",
    "    X : array-like or sparse matrix, shape (n_samples, n_features)\n",
    "        The observations to cluster.\n",
    "    n_clusters : int\n",
    "        The number of clusters to form as well as the number of\n",
    "        centroids to generate.\n",
    "    max_iter : int, optional, default 300\n",
    "        Maximum number of iterations of the k-means algorithm to run.\n",
    "    n_init : int, optional, default: 10\n",
    "        Number of time the k-means algorithm will be run with different\n",
    "        centroid seeds. The final results will be the best output of\n",
    "        n_init consecutive runs in terms of inertia.\n",
    "    init : {'k-means++', 'random', or ndarray, or a callable}, optional\n",
    "        Method for initialization, default to 'k-means++':\n",
    "        'k-means++' : selects initial cluster centers for k-mean\n",
    "        clustering in a smart way to speed up convergence. See section\n",
    "        Notes in k_init for more details.\n",
    "        'random': generate k centroids from a Gaussian with mean and\n",
    "        variance estimated from the data.\n",
    "        If an ndarray is passed, it should be of shape (n_clusters, n_features)\n",
    "        and gives the initial centers.\n",
    "        If a callable is passed, it should take arguments X, k and\n",
    "        and a random state and return an initialization.\n",
    "    precompute_distances : {'auto', True, False}\n",
    "        Precompute distances (faster but takes more memory).\n",
    "        'auto' : do not precompute distances if n_samples * n_clusters > 12\n",
    "        million. This corresponds to about 100MB overhead per job using\n",
    "        double precision.\n",
    "        True : always precompute distances\n",
    "        False : never precompute distances\n",
    "    tol : float, optional\n",
    "        The relative increment in the results before declaring convergence.\n",
    "    verbose : boolean, optional\n",
    "        Verbosity mode.\n",
    "    random_state : integer or numpy.RandomState, optional\n",
    "        The generator used to initialize the centers. If an integer is\n",
    "        given, it fixes the seed. Defaults to the global numpy random\n",
    "        number generator.\n",
    "    copy_x : boolean, optional\n",
    "        When pre-computing distances it is more numerically accurate to center\n",
    "        the data first.  If copy_x is True, then the original data is not\n",
    "        modified.  If False, the original data is modified, and put back before\n",
    "        the function returns, but small numerical differences may be introduced\n",
    "        by subtracting and then adding the data mean.\n",
    "    n_jobs : int\n",
    "        The number of jobs to use for the computation. This works by computing\n",
    "        each of the n_init runs in parallel.\n",
    "        If -1 all CPUs are used. If 1 is given, no parallel computing code is\n",
    "        used at all, which is useful for debugging. For n_jobs below -1,\n",
    "        (n_cpus + 1 + n_jobs) are used. Thus for n_jobs = -2, all CPUs but one\n",
    "        are used.\n",
    "    return_n_iter : bool, optional\n",
    "        Whether or not to return the number of iterations.\n",
    "    Returns\n",
    "    -------\n",
    "    centroid : float ndarray with shape (k, n_features)\n",
    "        Centroids found at the last iteration of k-means.\n",
    "    label : integer ndarray with shape (n_samples,)\n",
    "        label[i] is the code or index of the centroid the\n",
    "        i'th observation is closest to.\n",
    "    inertia : float\n",
    "        The final value of the inertia criterion (sum of squared distances to\n",
    "        the closest centroid for all observations in the training set).\n",
    "    best_n_iter: int\n",
    "        Number of iterations corresponding to the best results.\n",
    "        Returned only if `return_n_iter` is set to True.\n",
    "    \"\"\"\n",
    "    if n_init <= 0:\n",
    "        raise ValueError(\"Invalid number of initializations.\"\n",
    "                         \" n_init=%d must be bigger than zero.\" % n_init)\n",
    "    random_state = check_random_state(random_state)\n",
    "\n",
    "    if max_iter <= 0:\n",
    "        raise ValueError('Number of iterations should be a positive number,'\n",
    "                         ' got %d instead' % max_iter)\n",
    "\n",
    "    best_inertia = np.infty\n",
    "    X = as_float_array(X, copy=copy_x)\n",
    "    tol = _tolerance(X, tol)\n",
    "\n",
    "    # If the distances are precomputed every job will create a matrix of shape\n",
    "    # (n_clusters, n_samples). To stop KMeans from eating up memory we only\n",
    "    # activate this if the created matrix is guaranteed to be under 100MB. 12\n",
    "    # million entries consume a little under 100MB if they are of type double.\n",
    "    if precompute_distances == 'auto':\n",
    "        n_samples = X.shape[0]\n",
    "        precompute_distances = (n_clusters * n_samples) < 12e6\n",
    "    elif isinstance(precompute_distances, bool):\n",
    "        pass\n",
    "    else:\n",
    "        raise ValueError(\"precompute_distances should be 'auto' or True/False\"\n",
    "                         \", but a value of %r was passed\" %\n",
    "                         precompute_distances)\n",
    "\n",
    "    # subtract of mean of x for more accurate distance computations\n",
    "    if not sp.issparse(X) or hasattr(init, '__array__'):\n",
    "        X_mean = X.mean(axis=0)\n",
    "    if not sp.issparse(X):\n",
    "        # The copy was already done above\n",
    "        X -= X_mean\n",
    "\n",
    "    if hasattr(init, '__array__'):\n",
    "        init = check_array(init, dtype=np.float64, copy=True)\n",
    "        _validate_center_shape(X, n_clusters, init)\n",
    "\n",
    "        init -= X_mean\n",
    "        if n_init != 1:\n",
    "            warnings.warn(\n",
    "                'Explicit initial center position passed: '\n",
    "                'performing only one init in k-means instead of n_init=%d'\n",
    "                % n_init, RuntimeWarning, stacklevel=2)\n",
    "            n_init = 1\n",
    "\n",
    "    # precompute squared norms of data points\n",
    "    x_squared_norms = row_norms(X, squared=True)\n",
    "\n",
    "    best_labels, best_inertia, best_centers = None, None, None\n",
    "    if n_jobs == 1:\n",
    "        # For a single thread, less memory is needed if we just store one set\n",
    "        # of the best results (as opposed to one set per run per thread).\n",
    "        for it in range(n_init):\n",
    "            # run a k-means once\n",
    "            labels, inertia, centers, n_iter_ = _kmeans_single(\n",
    "                X, n_clusters, max_iter=max_iter, init=init, verbose=verbose,\n",
    "                precompute_distances=precompute_distances, tol=tol,\n",
    "                x_squared_norms=x_squared_norms, random_state=random_state)\n",
    "            # determine if these results are the best so far\n",
    "            if best_inertia is None or inertia < best_inertia:\n",
    "                best_labels = labels.copy()\n",
    "                best_centers = centers.copy()\n",
    "                best_inertia = inertia\n",
    "                best_n_iter = n_iter_\n",
    "    else:\n",
    "        # parallelisation of k-means runs\n",
    "        seeds = random_state.randint(np.iinfo(np.int32).max, size=n_init)\n",
    "        results = Parallel(n_jobs=n_jobs, verbose=0)(\n",
    "            delayed(_kmeans_single)(X, n_clusters, max_iter=max_iter,\n",
    "                                    init=init, verbose=verbose, tol=tol,\n",
    "                                    precompute_distances=precompute_distances,\n",
    "                                    x_squared_norms=x_squared_norms,\n",
    "                                    # Change seed to ensure variety\n",
    "                                    random_state=seed)\n",
    "            for seed in seeds)\n",
    "        # Get results with the lowest inertia\n",
    "        labels, inertia, centers, n_iters = zip(*results)\n",
    "        best = np.argmin(inertia)\n",
    "        best_labels = labels[best]\n",
    "        best_inertia = inertia[best]\n",
    "        best_centers = centers[best]\n",
    "        best_n_iter = n_iters[best]\n",
    "\n",
    "    if not sp.issparse(X):\n",
    "        if not copy_x:\n",
    "            X += X_mean\n",
    "        best_centers += X_mean\n",
    "\n",
    "    if return_n_iter:\n",
    "        return best_centers, best_labels, best_inertia, best_n_iter\n",
    "    else:\n",
    "        return best_centers, best_labels, best_inertia\n",
    "\n",
    "\n",
    "def _kmeans_single(X, n_clusters, x_squared_norms, max_iter=300,\n",
    "                   init='k-means++', verbose=False, random_state=None,\n",
    "                   tol=1e-4, precompute_distances=True):\n",
    "    \"\"\"A single run of k-means, assumes preparation completed prior.\n",
    "    Parameters\n",
    "    ----------\n",
    "    X: array-like of floats, shape (n_samples, n_features)\n",
    "        The observations to cluster.\n",
    "    n_clusters: int\n",
    "        The number of clusters to form as well as the number of\n",
    "        centroids to generate.\n",
    "    max_iter: int, optional, default 300\n",
    "        Maximum number of iterations of the k-means algorithm to run.\n",
    "    init: {'k-means++', 'random', or ndarray, or a callable}, optional\n",
    "        Method for initialization, default to 'k-means++':\n",
    "        'k-means++' : selects initial cluster centers for k-mean\n",
    "        clustering in a smart way to speed up convergence. See section\n",
    "        Notes in k_init for more details.\n",
    "        'random': generate k centroids from a Gaussian with mean and\n",
    "        variance estimated from the data.\n",
    "        If an ndarray is passed, it should be of shape (k, p) and gives\n",
    "        the initial centers.\n",
    "        If a callable is passed, it should take arguments X, k and\n",
    "        and a random state and return an initialization.\n",
    "    tol: float, optional\n",
    "        The relative increment in the results before declaring convergence.\n",
    "    verbose: boolean, optional\n",
    "        Verbosity mode\n",
    "    x_squared_norms: array\n",
    "        Precomputed x_squared_norms.\n",
    "    precompute_distances : boolean, default: True\n",
    "        Precompute distances (faster but takes more memory).\n",
    "    random_state: integer or numpy.RandomState, optional\n",
    "        The generator used to initialize the centers. If an integer is\n",
    "        given, it fixes the seed. Defaults to the global numpy random\n",
    "        number generator.\n",
    "    Returns\n",
    "    -------\n",
    "    centroid: float ndarray with shape (k, n_features)\n",
    "        Centroids found at the last iteration of k-means.\n",
    "    label: integer ndarray with shape (n_samples,)\n",
    "        label[i] is the code or index of the centroid the\n",
    "        i'th observation is closest to.\n",
    "    inertia: float\n",
    "        The final value of the inertia criterion (sum of squared distances to\n",
    "        the closest centroid for all observations in the training set).\n",
    "    n_iter : int\n",
    "        Number of iterations run.\n",
    "    \"\"\"\n",
    "    random_state = check_random_state(random_state)\n",
    "\n",
    "    best_labels, best_inertia, best_centers = None, None, None\n",
    "    # init\n",
    "    centers = k_means_._init_centroids(X, n_clusters, init, random_state=random_state,\n",
    "                              x_squared_norms=x_squared_norms)\n",
    "    if verbose:\n",
    "        print(\"Initialization complete\")\n",
    "\n",
    "    # Allocate memory to store the distances for each sample to its\n",
    "    # closer center for reallocation in case of ties\n",
    "    distances = np.zeros(shape=(X.shape[0],), dtype=np.float64)\n",
    "\n",
    "    # iterations\n",
    "    for i in range(max_iter):\n",
    "        centers_old = centers.copy()\n",
    "        # labels assignment is also called the E-step of EM\n",
    "        labels, inertia = \\\n",
    "            _labels_inertia(X, x_squared_norms, centers,\n",
    "                            precompute_distances=precompute_distances,\n",
    "                            distances=distances)\n",
    "\n",
    "        # computation of the means is also called the M-step of EM\n",
    "        if sp.issparse(X):\n",
    "            centers = _k_means._centers_sparse(X, labels, n_clusters,\n",
    "                                               distances)\n",
    "        else:\n",
    "            centers = _k_means._centers_dense(X, np.ones(len(X)), labels, n_clusters, distances)\n",
    "\n",
    "        if verbose:\n",
    "            print(\"Iteration %2d, inertia %.3f\" % (i, inertia))\n",
    "\n",
    "        if best_inertia is None or inertia < best_inertia:\n",
    "            best_labels = labels.copy()\n",
    "            best_centers = centers.copy()\n",
    "            best_inertia = inertia\n",
    "\n",
    "        shift = squared_norm(centers_old - centers)\n",
    "        if shift <= tol:\n",
    "            if verbose:\n",
    "                print(\"Converged at iteration %d\" % i)\n",
    "\n",
    "            break\n",
    "\n",
    "    if shift > 0:\n",
    "        # rerun E-step in case of non-convergence so that predicted labels\n",
    "        # match cluster centers\n",
    "        best_labels, best_inertia = \\\n",
    "            _labels_inertia(X, x_squared_norms, best_centers,\n",
    "                            precompute_distances=precompute_distances,\n",
    "                            distances=distances)\n",
    "\n",
    "    return best_labels, best_inertia, best_centers, i + 1\n",
    "\n",
    "\n",
    "def _validate_center_shape(X, n_centers, centers):\n",
    "    \"\"\"Check if centers is compatible with X and n_centers\"\"\"\n",
    "    if len(centers) != n_centers:\n",
    "        raise ValueError('The shape of the initial centers (%s) '\n",
    "                         'does not match the number of clusters %i'\n",
    "                         % (centers.shape, n_centers))\n",
    "    if centers.shape[1] != X.shape[1]:\n",
    "        raise ValueError(\n",
    "            \"The number of features of the initial centers %s \"\n",
    "            \"does not match the number of features of the data %s.\"\n",
    "            % (centers.shape[1], X.shape[1]))\n",
    "\n",
    "\n",
    "def _tolerance(X, tol):\n",
    "    \"\"\"Return a tolerance which is independent of the dataset\"\"\"\n",
    "    if sp.issparse(X):\n",
    "        variances = mean_variance_axis(X, axis=0)[1]\n",
    "    else:\n",
    "        variances = np.var(X, axis=0)\n",
    "    return np.mean(variances) * tol\n",
    "\n",
    "\n",
    "def _labels_inertia(X, x_squared_norms, centers,\n",
    "                    precompute_distances=True, distances=None):\n",
    "    \"\"\"E step of the K-means EM algorithm.\n",
    "    Compute the labels and the inertia of the given samples and centers.\n",
    "    This will compute the distances in-place.\n",
    "    Parameters\n",
    "    ----------\n",
    "    X: float64 array-like or CSR sparse matrix, shape (n_samples, n_features)\n",
    "        The input samples to assign to the labels.\n",
    "    x_squared_norms: array, shape (n_samples,)\n",
    "        Precomputed squared euclidean norm of each data point, to speed up\n",
    "        computations.\n",
    "    centers: float64 array, shape (k, n_features)\n",
    "        The cluster centers.\n",
    "    precompute_distances : boolean, default: True\n",
    "        Precompute distances (faster but takes more memory).\n",
    "    distances: float64 array, shape (n_samples,)\n",
    "        Pre-allocated array to be filled in with each sample's distance\n",
    "        to the closest center.\n",
    "    Returns\n",
    "    -------\n",
    "    labels: int array of shape(n)\n",
    "        The resulting assignment\n",
    "    inertia : float\n",
    "        Sum of distances of samples to their closest cluster center.\n",
    "    \"\"\"\n",
    "    n_samples = X.shape[0]\n",
    "    # set the default value of centers to -1 to be able to detect any anomaly\n",
    "    # easily\n",
    "    labels = -np.ones(n_samples, np.int32)\n",
    "    if distances is None:\n",
    "        distances = np.zeros(shape=(0,), dtype=np.float64)\n",
    "    # distances will be changed in-place\n",
    "    if sp.issparse(X):\n",
    "        inertia = k_means_._k_means._assign_labels_csr(\n",
    "            X, x_squared_norms, centers, labels, distances=distances)\n",
    "    else:\n",
    "        if precompute_distances:\n",
    "            return _labels_inertia_precompute_dense(X, x_squared_norms,\n",
    "                                                    centers, distances)\n",
    "        inertia = k_means_._k_means._assign_labels_array(\n",
    "            X, x_squared_norms, centers, labels, distances=distances)\n",
    "    return labels, inertia\n",
    "\n",
    "\n",
    "\n",
    "def _labels_inertia_precompute_dense(X, x_squared_norms, centers, distances):\n",
    "    \"\"\"Compute labels and inertia using a full distance matrix.\n",
    "    This will overwrite the 'distances' array in-place.\n",
    "    Parameters\n",
    "    ----------\n",
    "    X : numpy array, shape (n_sample, n_features)\n",
    "        Input data.\n",
    "    x_squared_norms : numpy array, shape (n_samples,)\n",
    "        Precomputed squared norms of X.\n",
    "    centers : numpy array, shape (n_clusters, n_features)\n",
    "        Cluster centers which data is assigned to.\n",
    "    distances : numpy array, shape (n_samples,)\n",
    "        Pre-allocated array in which distances are stored.\n",
    "    Returns\n",
    "    -------\n",
    "    labels : numpy array, dtype=np.int, shape (n_samples,)\n",
    "        Indices of clusters that samples are assigned to.\n",
    "    inertia : float\n",
    "        Sum of distances of samples to their closest cluster center.\n",
    "    \"\"\"\n",
    "    n_samples = X.shape[0]\n",
    "    k = centers.shape[0]\n",
    "    all_distances = euclidean_distances(centers, X, x_squared_norms,\n",
    "                                        squared=True)\n",
    "    labels = np.empty(n_samples, dtype=np.int32)\n",
    "    labels.fill(-1)\n",
    "    mindist = np.empty(n_samples)\n",
    "    mindist.fill(np.infty)\n",
    "\n",
    "\n",
    "    n_samples = X.shape[0]\n",
    "    k = centers.shape[0]\n",
    "    max_cluster_size = get_clusters_size(n_samples, k)\n",
    "\n",
    "    labels, mindist = initial_assignment(labels, mindist, n_samples, all_distances, max_cluster_size)\n",
    "    all_points = np.arange(n_samples)\n",
    "\n",
    "    for point in all_points:\n",
    "        for point_dist in get_best_point_distances(point, all_distances):\n",
    "            cluster_id, point_dist = point_dist\n",
    "            # initial assignment\n",
    "            if not is_cluster_full(cluster_id, max_cluster_size, labels):\n",
    "                labels[point] = cluster_id\n",
    "                mindist[point] = point_dist\n",
    "                break\n",
    "\n",
    "    # refinement of clustering\n",
    "    transfer_list = []\n",
    "    best_mindist = mindist.copy()\n",
    "    best_labels = labels.copy()\n",
    "    # sort all of the points from largest distance to smallest\n",
    "    points_by_high_distance = np.argsort(mindist)[::-1]\n",
    "    for point in points_by_high_distance:\n",
    "        point_cluster = labels[point]\n",
    "\n",
    "        # see if there is an opening on the best cluster for this point\n",
    "        cluster_id, point_dist = get_best_cluster_for_point(point, all_distances)\n",
    "        if not is_cluster_full(cluster_id, max_cluster_size, labels) and point_cluster != cluster_id:\n",
    "            labels[point] = cluster_id\n",
    "            mindist[point] = point_dist\n",
    "            best_labels = labels.copy()\n",
    "            best_mindist = mindist.copy()\n",
    "            continue # on to the next point\n",
    "\n",
    "        for swap_candidate in transfer_list:\n",
    "            cand_cluster = labels[swap_candidate]\n",
    "            if point_cluster != cand_cluster:\n",
    "\n",
    "                # get the current dist of swap candidate\n",
    "                cand_distance = mindist[swap_candidate]\n",
    "\n",
    "                # get the potential dist of point\n",
    "                point_distance = all_distances[cand_cluster, point]\n",
    "\n",
    "                # compare\n",
    "                if point_distance < cand_distance:\n",
    "\n",
    "                    labels[point] = cand_cluster\n",
    "                    mindist[point] = all_distances[cand_cluster, point]\n",
    "\n",
    "                    labels[swap_candidate] = point_cluster\n",
    "                    mindist[swap_candidate] = all_distances[point_cluster, swap_candidate]\n",
    "\n",
    "                    if np.absolute(mindist).sum() <  np.absolute(best_mindist).sum():\n",
    "                        # update the labels since the transfer was a success\n",
    "                        best_labels = labels.copy()\n",
    "                        best_mindist = mindist.copy()\n",
    "                        break\n",
    "\n",
    "                    else:\n",
    "                        # reset since the transfer was not a success\n",
    "                        labels = best_labels.copy()\n",
    "                        mindist = best_mindist.copy()\n",
    "\n",
    "        transfer_list.append(point)\n",
    "\n",
    "    if n_samples == distances.shape[0]:\n",
    "        # distances will be changed in-place\n",
    "        distances[:] = mindist\n",
    "    inertia = best_mindist.sum()\n",
    "\n",
    "    return best_labels, inertia\n",
    "\n",
    "def get_best_cluster_for_point(point, all_distances):\n",
    "    \"\"\"Gets the best cluster by distance for a point\n",
    "    Argument\n",
    "    --------\n",
    "    point : int\n",
    "        the point index\n",
    "    Returns\n",
    "    --------\n",
    "    tuple\n",
    "        (cluster_id, distance_from_cluster_center)\n",
    "    \"\"\"\n",
    "\n",
    "    sorted_distances = get_best_point_distances(point, all_distances)\n",
    "    cluster_id, point_dist = sorted_distances[0]\n",
    "    return cluster_id, point_dist\n",
    "\n",
    "def get_best_point_distances(point, all_distances):\n",
    "    \"\"\"Gets a sorted by best distance of clusters\n",
    "    Argument\n",
    "    --------\n",
    "    point : int\n",
    "        the point index\n",
    "    Returns\n",
    "    --------\n",
    "    list of tuples sorted by point_dist\n",
    "        example: [(cluster_id, point_dist), (cluster_id, point_dist)]\n",
    "    \"\"\"\n",
    "    points_distances = all_distances[:, point]\n",
    "    sorted_points = sort_adjust_row(points_distances)\n",
    "    return sorted_points\n",
    "\n",
    "def sort_adjust_row(points_distances):\n",
    "    \"Sorts the points row from smallest distance to lowest distance\"\n",
    "    return sorted([(cluster_id, point_dist) for cluster_id, point_dist in enumerate(points_distances)], key=lambda x: x[1])\n",
    "\n",
    "def is_cluster_full(cluster_id, max_cluster_size, labels):\n",
    "    \"\"\"Determies in a cluster is full\"\"\"\n",
    "    cluster_count = len(np.where(labels==cluster_id)[0])\n",
    "    is_full = cluster_count >= max_cluster_size\n",
    "    return is_full\n",
    "\n",
    "def get_clusters_size(n_samples, n_clusters):\n",
    "    \"\"\"Gets the number of members per cluster for equal groups kmeans\"\"\"\n",
    "    return (n_samples + n_clusters - 1) // n_clusters\n",
    "\n",
    "def initial_assignment(labels, mindist, n_samples, all_distances, max_cluster_size):\n",
    "    \"\"\"Initial assignment of labels and mindist\"\"\"\n",
    "    all_points = np.arange(n_samples)\n",
    "    for point in all_points:\n",
    "        for point_dist in get_best_point_distances(point, all_distances):\n",
    "            cluster_id, point_dist = point_dist\n",
    "            # initial assignment\n",
    "            if not is_cluster_full(cluster_id, max_cluster_size, labels):\n",
    "                labels[point] = cluster_id\n",
    "                mindist[point] = point_dist\n",
    "                break\n",
    "    return labels, mindist"
   ]
  },
  {
   "cell_type": "code",
   "execution_count": 30,
   "metadata": {
    "colab": {
     "base_uri": "https://localhost:8080/",
     "height": 1000
    },
    "colab_type": "code",
    "id": "DwgIEac7vPkr",
    "outputId": "7697ef3c-da63-41f8-9816-78e2e9de1ae3"
   },
   "outputs": [
    {
     "data": {
      "text/plain": [
       "array([[-8.76860119,  1.41129753, -2.89822188],\n",
       "       [ 2.73499963,  3.41978659, -7.21557955],\n",
       "       [ 4.79693949,  6.61403284,  7.08368551],\n",
       "       [ 6.07145234,  8.72416804, -8.32415985],\n",
       "       [ 3.33020113, -1.64658401,  5.56497979],\n",
       "       [-7.53266011,  1.76350622, -2.50916942],\n",
       "       [ 6.87748791, -0.27824977,  5.8363791 ],\n",
       "       [-7.3434464 ,  8.76255337, -0.34432412],\n",
       "       [ 6.72769151, -0.58055692,  5.19065909],\n",
       "       [-7.61621938,  8.6632669 , -1.09008059],\n",
       "       [ 4.25652378, -2.48360503,  5.89923934],\n",
       "       [ 3.02841215,  5.61613034,  0.37991587],\n",
       "       [ 2.8362335 ,  2.9681936 , -7.29847667],\n",
       "       [ 4.35608493, -2.53772814,  6.10904573],\n",
       "       [ 2.92152732,  6.04035664,  1.35191952],\n",
       "       [ 2.29284156,  6.83621924, -0.0719393 ],\n",
       "       [ 4.69563463,  8.91355346, -8.9228877 ],\n",
       "       [ 1.93846654,  2.71939864, -6.34252507],\n",
       "       [ 6.2961416 ,  8.67200937, -7.97842751],\n",
       "       [ 4.71247534,  6.87301748,  5.6576271 ],\n",
       "       [-6.69313605,  8.06730356, -0.44848099],\n",
       "       [-8.88068599,  2.28583882, -2.19014605],\n",
       "       [ 4.12126494, -2.05095133,  6.10079051],\n",
       "       [ 7.38821465, -1.09124339,  5.22680724],\n",
       "       [ 2.91370123,  5.57205892, -0.76147905],\n",
       "       [ 2.55948741,  2.87074862, -7.34584074],\n",
       "       [ 4.43959534,  6.44985897,  6.99105527],\n",
       "       [ 4.05213347,  6.79390169,  6.60590647],\n",
       "       [ 6.69085995, -0.7290761 ,  6.01475541],\n",
       "       [-7.91476811,  8.48525329, -0.93634821],\n",
       "       [-8.91199173,  1.82083624, -2.8508123 ],\n",
       "       [ 6.179322  ,  8.36958456, -8.3511957 ]])"
      ]
     },
     "execution_count": 30,
     "metadata": {},
     "output_type": "execute_result"
    }
   ],
   "source": [
    "X"
   ]
  },
  {
   "cell_type": "code",
   "execution_count": 31,
   "metadata": {
    "colab": {
     "base_uri": "https://localhost:8080/",
     "height": 274
    },
    "colab_type": "code",
    "id": "x38mxlRLwiNC",
    "outputId": "ac521c8c-0f5c-4a82-e9f8-e18f06c14137"
   },
   "outputs": [
    {
     "data": {
      "image/png": "[encoded data removed]",
      "text/plain": [
       "<Figure size 432x288 with 1 Axes>"
      ]
     },
     "metadata": {
      "needs_background": "light"
     },
     "output_type": "display_data"
    }
   ],
   "source": [
    "n_samples = 128\n",
    "n_groups = 16\n",
    "n_members = 8\n",
    "\n",
    "# ensure that the calculus works out\n",
    "assert n_groups * n_members == n_samples\n",
    "\n",
    "X, y_true = make_blobs(n_samples=n_samples, centers=n_groups,\n",
    "                       cluster_std=0.50, random_state=random_state)\n",
    "plt.scatter(X[:, 0], X[:, 1], s=50);"
   ]
  },
  {
   "cell_type": "code",
   "execution_count": 32,
   "metadata": {
    "colab": {
     "base_uri": "https://localhost:8080/",
     "height": 53
    },
    "colab_type": "code",
    "id": "qeBSwHKGvZDl",
    "outputId": "76155e73-f68a-420d-8d2e-0cbf97e9b3ff"
   },
   "outputs": [
    {
     "name": "stdout",
     "output_type": "stream",
     "text": [
      "Group sizes: Counter({6: 8, 9: 8, 13: 8, 5: 8, 4: 8, 3: 8, 10: 8, 15: 8, 7: 8, 2: 8, 8: 8, 12: 8, 1: 8, 0: 8, 14: 8, 11: 8})\n",
      "Successfully found equal group sizes.\n"
     ]
    }
   ],
   "source": [
    "clf = EqualGroupsKMeans(n_clusters=n_groups)\n",
    "\n",
    "clf.fit(X)\n",
    "\n",
    "labels = clf.labels_\n",
    "\n",
    "# test the group size, AssertionError on failure\n",
    "C = Counter(labels)\n",
    "print('Group sizes: {}'.format(C))\n",
    "\n",
    "try:\n",
    "  assert list(C.values()) == [n_members] * n_groups\n",
    "  print('Successfully found equal group sizes.')\n",
    "except AssertionError as e:\n",
    "  print('Unequal group sizes')\n",
    "  print(C.values())"
   ]
  },
  {
   "cell_type": "code",
   "execution_count": 0,
   "metadata": {
    "colab": {},
    "colab_type": "code",
    "id": "5PdHOALivaDa"
   },
   "outputs": [],
   "source": []
  }
 ],
 "metadata": {
  "colab": {
   "collapsed_sections": [],
   "include_colab_link": true,
   "name": "Building Equal Size Clusters - Kyle Mathewson - Sept 2019",
   "provenance": []
  },
  "kernelspec": {
   "display_name": "Python 3",
   "language": "python",
   "name": "python3"
  },
  "language_info": {
   "codemirror_mode": {
    "name": "ipython",
    "version": 3
   },
   "file_extension": ".py",
   "mimetype": "text/x-python",
   "name": "python",
   "nbconvert_exporter": "python",
   "pygments_lexer": "ipython3",
   "version": "3.6.0"
  }
 },
 "nbformat": 4,
 "nbformat_minor": 1
}
