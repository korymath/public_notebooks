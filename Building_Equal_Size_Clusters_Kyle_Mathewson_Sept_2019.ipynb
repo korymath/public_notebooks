{
  "nbformat": 4,
  "nbformat_minor": 0,
  "metadata": {
    "colab": {
      "name": "Building Equal Size Clusters - Kyle Mathewson - Sept 2019",
      "provenance": [],
      "collapsed_sections": [],
      "include_colab_link": true
    },
    "kernelspec": {
      "name": "python3",
      "display_name": "Python 3"
    }
  },
  "cells": [
    {
      "cell_type": "markdown",
      "metadata": {
        "id": "view-in-github",
        "colab_type": "text"
      },
      "source": [
        "<a href=\"https://colab.research.google.com/github/korymath/public_notebooks/blob/master/Building_Equal_Size_Clusters_Kyle_Mathewson_Sept_2019.ipynb\" target=\"_parent\"><img src=\"https://colab.research.google.com/assets/colab-badge.svg\" alt=\"Open In Colab\"/></a>"
      ]
    },
    {
      "cell_type": "markdown",
      "metadata": {
        "id": "P-G9cpLz95Hy",
        "colab_type": "text"
      },
      "source": [
        "# Imports"
      ]
    },
    {
      "cell_type": "code",
      "metadata": {
        "id": "YRotLtz9rHPk",
        "colab_type": "code",
        "colab": {}
      },
      "source": [
        "%matplotlib inline\n",
        "\n",
        "import matplotlib.pyplot as plt\n",
        "import seaborn as sns; sns.set()\n",
        "import numpy as np\n",
        "from sklearn.datasets.samples_generator import make_blobs\n",
        "from sklearn.cluster import KMeans\n",
        "from collections import Counter\n",
        "import numpy as np\n",
        "from scipy.spatial.distance import pdist\n",
        "from scipy.spatial.distance import squareform\n",
        "\n",
        "np.random.seed(random_state)"
      ],
      "execution_count": 0,
      "outputs": []
    },
    {
      "cell_type": "markdown",
      "metadata": {
        "id": "Jy8dxquVsiQ5",
        "colab_type": "text"
      },
      "source": [
        "# Generate and Visualize Data"
      ]
    },
    {
      "cell_type": "code",
      "metadata": {
        "id": "7PMhBLnmrNsb",
        "colab_type": "code",
        "outputId": "9e1b9625-7789-4e80-8d6e-eca77cb82222",
        "colab": {
          "base_uri": "https://localhost:8080/",
          "height": 274
        }
      },
      "source": [
        "n_samples = 32\n",
        "n_groups = 8\n",
        "n_members = 4\n",
        "\n",
        "random_state = 1017\n",
        "\n",
        "# ensure that the calculus works out\n",
        "assert n_groups * n_members == n_samples\n",
        "\n",
        "X, y_true = make_blobs(n_samples=n_samples, centers=n_groups,\n",
        "                       cluster_std=0.50, random_state=random_state)\n",
        "plt.scatter(X[:, 0], X[:, 1], s=50);"
      ],
      "execution_count": 173,
      "outputs": [
        {
          "output_type": "display_data",
          "data": {
            "image/png": "[encoded data removed]",
            "text/plain": [
              "<Figure size 432x288 with 1 Axes>"
            ]
          },
          "metadata": {
            "tags": []
          }
        }
      ]
    },
    {
      "cell_type": "markdown",
      "metadata": {
        "id": "sVlGJyImsl9Z",
        "colab_type": "text"
      },
      "source": [
        "# K-Means Clustering"
      ]
    },
    {
      "cell_type": "code",
      "metadata": {
        "id": "JeYEhDZGrTPg",
        "colab_type": "code",
        "outputId": "77632be2-367c-4146-d66b-c29635b4c90e",
        "colab": {
          "base_uri": "https://localhost:8080/",
          "height": 274
        }
      },
      "source": [
        "kmeans = KMeans(n_clusters=n_groups, n_init=100, max_iter=1000)\n",
        "kmeans.fit(X)\n",
        "labels = kmeans.predict(X)\n",
        "\n",
        "plt.scatter(X[:, 0], X[:, 1], c=labels, s=50, cmap='viridis')\n",
        "\n",
        "centers = kmeans.cluster_centers_\n",
        "plt.scatter(centers[:, 0], centers[:, 1], c='black', s=200, alpha=0.5);"
      ],
      "execution_count": 174,
      "outputs": [
        {
          "output_type": "display_data",
          "data": {
            "image/png": "[encoded data removed]",
            "text/plain": [
              "<Figure size 432x288 with 1 Axes>"
            ]
          },
          "metadata": {
            "tags": []
          }
        }
      ]
    },
    {
      "cell_type": "code",
      "metadata": {
        "id": "ofJ-cu8l_JIL",
        "colab_type": "code",
        "colab": {
          "base_uri": "https://localhost:8080/",
          "height": 53
        },
        "outputId": "ed3a81de-2924-461c-e51f-084b4cc9946b"
      },
      "source": [
        "# test the group size, AssertionError on failure\n",
        "C = Counter(labels)\n",
        "print('Group sizes: {}'.format(C))\n",
        "\n",
        "try:\n",
        "  assert list(C.values()) == [n_members] * n_groups\n",
        "except AssertionError as e:\n",
        "  print('Unequal group sizes')"
      ],
      "execution_count": 175,
      "outputs": [
        {
          "output_type": "stream",
          "text": [
            "Group sizes: Counter({0: 5, 2: 4, 1: 4, 4: 4, 3: 4, 5: 4, 6: 4, 7: 3})\n",
            "Unequal group sizes\n"
          ],
          "name": "stdout"
        }
      ]
    },
    {
      "cell_type": "markdown",
      "metadata": {
        "id": "w6hT6NGhsYnP",
        "colab_type": "text"
      },
      "source": [
        "# (optional) Explicit Algorithm Details"
      ]
    },
    {
      "cell_type": "code",
      "metadata": {
        "id": "VyAtU1bHsE8a",
        "colab_type": "code",
        "outputId": "8fbdfdaf-d869-474d-c686-eeda75617f80",
        "colab": {
          "base_uri": "https://localhost:8080/",
          "height": 274
        }
      },
      "source": [
        "from sklearn.metrics import pairwise_distances_argmin\n",
        "\n",
        "def find_clusters(X, n_clusters, rseed=random_state):\n",
        "    # 1. Randomly choose clusters\n",
        "    rng = np.random.RandomState(rseed)\n",
        "    i = rng.permutation(X.shape[0])[:n_clusters]\n",
        "    centers = X[i]\n",
        "    \n",
        "    while True:\n",
        "        # 2a. Assign labels based on closest center\n",
        "        labels = pairwise_distances_argmin(X, centers)\n",
        "        \n",
        "        # 2b. Find new centers from means of points\n",
        "        new_centers = np.array([X[labels == i].mean(0)\n",
        "                                for i in range(n_clusters)])\n",
        "        \n",
        "        # 2c. Check for convergence\n",
        "        if np.all(centers == new_centers):\n",
        "            break\n",
        "        centers = new_centers\n",
        "    \n",
        "    return centers, labels\n",
        "\n",
        "centers, labels = find_clusters(X=X, n_clusters=n_groups)\n",
        "plt.scatter(X[:, 0], X[:, 1], c=labels, s=50, cmap='viridis');"
      ],
      "execution_count": 176,
      "outputs": [
        {
          "output_type": "display_data",
          "data": {
            "image/png": "[encoded data removed]",
            "text/plain": [
              "<Figure size 432x288 with 1 Axes>"
            ]
          },
          "metadata": {
            "tags": []
          }
        }
      ]
    },
    {
      "cell_type": "markdown",
      "metadata": {
        "id": "Ml6txWaJs3TR",
        "colab_type": "text"
      },
      "source": [
        "# Limitations of K-Means\n",
        "\n",
        "1. Global optimum not guaranteed\n",
        "2. n_groups must be selected beforehand\n",
        "3. limited to linear cluster boundaries\n",
        "4. slow for large n_samples\n",
        "5. group sizes unequal"
      ]
    },
    {
      "cell_type": "code",
      "metadata": {
        "id": "nuFU3NHltcA3",
        "colab_type": "code",
        "outputId": "101fd5dd-f314-4b8b-e1fa-92d9627f040f",
        "colab": {
          "base_uri": "https://localhost:8080/",
          "height": 330
        }
      },
      "source": [
        "# To address limitation 1, we can increase n_init for different random\n",
        "# starting points on centroids. We can also increase the number of iterations\n",
        "# particularly if there is a small n_samples\n",
        "\n",
        "# To address limitation 3, we can use spectral clustering\n",
        "\n",
        "# use a kernel transformation to project the data into a higher dimension where \n",
        "# a linear separation is possible. \n",
        "# Allow k-means to discover non-linear boundaries.\n",
        "\n",
        "from sklearn.cluster import SpectralClustering\n",
        "model = SpectralClustering(n_clusters=n_groups, affinity='nearest_neighbors',\n",
        "                           assign_labels='kmeans', n_neighbors=n_members,\n",
        "                           n_init=100, random_state=random_state)\n",
        "labels = model.fit_predict(X)\n",
        "plt.scatter(X[:, 0], X[:, 1], c=labels, s=50, cmap='viridis');"
      ],
      "execution_count": 177,
      "outputs": [
        {
          "output_type": "stream",
          "text": [
            "/usr/local/lib/python3.6/dist-packages/sklearn/manifold/spectral_embedding_.py:235: UserWarning: Graph is not fully connected, spectral embedding may not work as expected.\n",
            "  warnings.warn(\"Graph is not fully connected, spectral embedding\"\n"
          ],
          "name": "stderr"
        },
        {
          "output_type": "display_data",
          "data": {
            "image/png": "[encoded data removed]",
            "text/plain": [
              "<Figure size 432x288 with 1 Axes>"
            ]
          },
          "metadata": {
            "tags": []
          }
        }
      ]
    },
    {
      "cell_type": "code",
      "metadata": {
        "id": "_2AjsYRV-YOu",
        "colab_type": "code",
        "colab": {
          "base_uri": "https://localhost:8080/",
          "height": 53
        },
        "outputId": "675c3d03-d880-430a-b44d-c0321c8b0640"
      },
      "source": [
        "# test the group size, AssertionError on failure\n",
        "C = Counter(labels)\n",
        "print('Group sizes: {}'.format(C))\n",
        "\n",
        "try:\n",
        "  assert list(C.values()) == [n_members] * n_groups\n",
        "except AssertionError as e:\n",
        "  print('Unequal group sizes')"
      ],
      "execution_count": 178,
      "outputs": [
        {
          "output_type": "stream",
          "text": [
            "Group sizes: Counter({0: 6, 4: 4, 5: 4, 2: 4, 1: 4, 3: 4, 7: 3, 6: 3})\n",
            "Unequal group sizes\n"
          ],
          "name": "stdout"
        }
      ]
    },
    {
      "cell_type": "markdown",
      "metadata": {
        "id": "yUlKAcwA9esD",
        "colab_type": "text"
      },
      "source": [
        "# Contrained Group Size k-means Clustering"
      ]
    },
    {
      "cell_type": "code",
      "metadata": {
        "id": "qnudnwUS38Ku",
        "colab_type": "code",
        "colab": {}
      },
      "source": [
        "def cluster_equal_groups(X, K=None, G=None, verbose=False):\n",
        "    # equal-size clustering based on data exchanges between pairs of clusters\n",
        "    # K is the group size\n",
        "    # G is the number of clusters\n",
        "\n",
        "    def error(K, m, D):\n",
        "        # return average distances between data in one cluster\n",
        "        # averaged over all clusters\n",
        "        \n",
        "        E = 0\n",
        "        for k in range(K):\n",
        "            # indeces of datapoints belonging to class k\n",
        "            i = np.where(m == k)[0] \n",
        "            E += np.mean(D[tuple(np.meshgrid(i,i))])\n",
        "        return E / K\n",
        "    \n",
        "    # given two of three num_points, num_clusters, group_size the third\n",
        "    # is trivial to calculate\n",
        "    N, n = X.shape\n",
        "    if G is None and K is not None:\n",
        "        G = N // K # group size\n",
        "    elif K is None and G is not None:\n",
        "        K = N // G # number of clusters\n",
        "    else:\n",
        "        raise Exception('must specify either K or G')\n",
        "        \n",
        "    # distance matrix\n",
        "    D = squareform(pdist(X)) \n",
        "    \n",
        "    # initial membership\n",
        "    # TODO(korymath): it is likely more efficient to start from the output\n",
        "    # of the k-means clustering algorithm, but not necessary for this\n",
        "    # small example\n",
        "    m = np.random.permutation(N) % K \n",
        "    E = error(K, m, D)\n",
        "\n",
        "    t = 1\n",
        "    while True:\n",
        "        E_p = E\n",
        "        for a in range(N):\n",
        "            for b in range(a):\n",
        "                # exchange membership\n",
        "                m[a], m[b] = m[b], m[a] \n",
        "                E_t = error(K, m, D)\n",
        "                if E_t < E:\n",
        "                    E = E_t\n",
        "                    if verbose:\n",
        "                      print(\"{}: {}<->{} E={}\".format(t, a, b, E))\n",
        "                else:\n",
        "                    # put them back\n",
        "                    m[a], m[b] = m[b], m[a] \n",
        "        if E_p == E:\n",
        "            break\n",
        "        t += 1    \n",
        "    return m"
      ],
      "execution_count": 0,
      "outputs": []
    },
    {
      "cell_type": "code",
      "metadata": {
        "id": "UR7lSoew4chS",
        "colab_type": "code",
        "colab": {
          "base_uri": "https://localhost:8080/",
          "height": 274
        },
        "outputId": "a683c4c5-8b1a-4b1b-f628-59622af25bd5"
      },
      "source": [
        "labels = cluster_equal_groups(X, G=4)\n",
        "plt.scatter(X[:, 0], X[:, 1], c=labels, s=50, cmap='viridis');"
      ],
      "execution_count": 180,
      "outputs": [
        {
          "output_type": "display_data",
          "data": {
            "image/png": "[encoded data removed]",
            "text/plain": [
              "<Figure size 432x288 with 1 Axes>"
            ]
          },
          "metadata": {
            "tags": []
          }
        }
      ]
    },
    {
      "cell_type": "code",
      "metadata": {
        "id": "mvDrQgen6-yt",
        "colab_type": "code",
        "colab": {
          "base_uri": "https://localhost:8080/",
          "height": 35
        },
        "outputId": "b69382b7-1e75-4d83-c959-eddbdbc6847b"
      },
      "source": [
        "# test the group size, AssertionError on failure\n",
        "C = Counter(labels)\n",
        "print('Group sizes: {}'.format(C))\n",
        "\n",
        "try:\n",
        "  assert list(C.values()) == [n_members] * n_groups\n",
        "except AssertionError as e:\n",
        "  print('Unequal group sizes')"
      ],
      "execution_count": 181,
      "outputs": [
        {
          "output_type": "stream",
          "text": [
            "Group sizes: Counter({7: 4, 3: 4, 5: 4, 6: 4, 1: 4, 2: 4, 4: 4, 0: 4})\n"
          ],
          "name": "stdout"
        }
      ]
    }
  ]
}